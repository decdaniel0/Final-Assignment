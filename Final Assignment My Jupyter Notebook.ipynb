{
 "cells": [
  {
   "cell_type": "markdown",
   "id": "90eead3c-bdbc-4d22-b9d5-ecd7257e7e45",
   "metadata": {},
   "source": [
    "# My Jupiter Notebook on IBM Watson Studio"
   ]
  },
  {
   "cell_type": "markdown",
   "id": "9e44b027-211a-427b-98ba-af652b0bc8de",
   "metadata": {},
   "source": [
    "**Daniel Delgado Camacho**\n",
    "\n",
    "Civil/Structural Engineer"
   ]
  },
  {
   "cell_type": "markdown",
   "id": "be8bc461-f4d3-4acc-94e1-bc7bcdadad9b",
   "metadata": {},
   "source": [
    "*I currently use data science to monitor reliability of equipment at my company. I am interested to learn more so that I can more effectively apply data science to my day to day job.*"
   ]
  },
  {
   "cell_type": "markdown",
   "id": "2aec7192-e5b9-40dd-9c6f-768ad6a0eeb0",
   "metadata": {},
   "source": [
    "### This code is multiplying 2 times 2"
   ]
  },
  {
   "cell_type": "code",
   "execution_count": 1,
   "id": "5ea958c5-53a2-45ee-9f3b-dacf96bb0073",
   "metadata": {},
   "outputs": [
    {
     "data": {
      "text/plain": [
       "4"
      ]
     },
     "execution_count": 1,
     "metadata": {},
     "output_type": "execute_result"
    }
   ],
   "source": [
    "2*2"
   ]
  },
  {
   "cell_type": "markdown",
   "id": "fa88cd1f-6d11-49e6-ba18-ad700dc1f60c",
   "metadata": {},
   "source": [
    "First Name|Last Name\n",
    "---|---\n",
    "Daniel|Delgado Camacho\n",
    "\n",
    "* Sector: Oil & Gas\n",
    "\n",
    "* Title: Civil/Structural Engineer\n",
    "\n",
    "`COMPLETE`\n",
    "\n",
    "\n"
   ]
  },
  {
   "cell_type": "code",
   "execution_count": null,
   "id": "300871ff-b173-4077-9a89-1dc8cbddf731",
   "metadata": {},
   "outputs": [],
   "source": []
  },
  {
   "cell_type": "code",
   "execution_count": null,
   "id": "49a8c222-e982-4b47-9f20-83d2fedfdb8f",
   "metadata": {},
   "outputs": [],
   "source": []
  }
 ],
 "metadata": {
  "kernelspec": {
   "display_name": "Python",
   "language": "python",
   "name": "conda-env-python-py"
  },
  "language_info": {
   "codemirror_mode": {
    "name": "ipython",
    "version": 3
   },
   "file_extension": ".py",
   "mimetype": "text/x-python",
   "name": "python",
   "nbconvert_exporter": "python",
   "pygments_lexer": "ipython3",
   "version": "3.7.12"
  }
 },
 "nbformat": 4,
 "nbformat_minor": 5
}
